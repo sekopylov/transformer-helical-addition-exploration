{
  "cells": [
    {
      "cell_type": "code",
      "execution_count": 2,
      "id": "78db67a2",
      "metadata": {
        "id": "78db67a2"
      },
      "outputs": [],
      "source": [
        "import torch\n",
        "from torch.utils.data import Dataset, DataLoader\n",
        "from transformers import GPT2Tokenizer, GPT2LMHeadModel\n",
        "from torch.optim import AdamW\n",
        "import os\n",
        "import wandb\n",
        "import numpy as np\n",
        "import random\n",
        "from tqdm import tqdm\n",
        "from sklearn.decomposition import PCA\n",
        "from sklearn.linear_model import LinearRegression\n",
        "import matplotlib.pyplot as plt\n",
        "from collections import defaultdict"
      ]
    },
    {
      "cell_type": "code",
      "execution_count": 3,
      "id": "cdbfbe09",
      "metadata": {
        "colab": {
          "base_uri": "https://localhost:8080/"
        },
        "id": "cdbfbe09",
        "outputId": "43ae0774-71cc-4f3f-ff59-60f5e6d070f0"
      },
      "outputs": [
        {
          "name": "stdout",
          "output_type": "stream",
          "text": [
            "cuda\n"
          ]
        }
      ],
      "source": [
        "device = 'cuda' if torch.cuda.is_available() else 'cpu'\n",
        "print(device)"
      ]
    },
    {
      "cell_type": "markdown",
      "id": "ad1a0b8c",
      "metadata": {},
      "source": [
        "#### Downloading model"
      ]
    },
    {
      "cell_type": "code",
      "execution_count": 4,
      "id": "f4213111",
      "metadata": {
        "id": "f4213111"
      },
      "outputs": [],
      "source": [
        "model_path = \"gpt2\"\n",
        "tokenizer_path = \"gpt2\""
      ]
    },
    {
      "cell_type": "code",
      "execution_count": 5,
      "id": "e6e1446b",
      "metadata": {
        "colab": {
          "base_uri": "https://localhost:8080/"
        },
        "id": "e6e1446b",
        "outputId": "94ce3394-fb87-483d-8f42-aeac69b165d4"
      },
      "outputs": [
        {
          "name": "stderr",
          "output_type": "stream",
          "text": [
            "The following generation flags are not valid and may be ignored: ['output_hidden_states']. Set `TRANSFORMERS_VERBOSITY=info` for more details.\n",
            "The following generation flags are not valid and may be ignored: ['output_hidden_states']. Set `TRANSFORMERS_VERBOSITY=info` for more details.\n",
            "The following generation flags are not valid and may be ignored: ['output_hidden_states']. Set `TRANSFORMERS_VERBOSITY=info` for more details.\n",
            "The following generation flags are not valid and may be ignored: ['output_hidden_states']. Set `TRANSFORMERS_VERBOSITY=info` for more details.\n"
          ]
        }
      ],
      "source": [
        "tokenizer = GPT2Tokenizer.from_pretrained(tokenizer_path)\n",
        "model = GPT2LMHeadModel.from_pretrained(model_path, output_hidden_states=True).to(device)\n",
        "tokenizer.pad_token = tokenizer.eos_token"
      ]
    },
    {
      "cell_type": "markdown",
      "id": "5ef1bbf6",
      "metadata": {},
      "source": [
        "#### Exploration of model and tokenizer"
      ]
    },
    {
      "cell_type": "code",
      "execution_count": 6,
      "id": "5ea34103",
      "metadata": {
        "id": "5ea34103"
      },
      "outputs": [],
      "source": [
        "def prompt_model(input_text):\n",
        "    input_ids = tokenizer.encode(input_text, return_tensors=\"pt\").to(device)\n",
        "    attention_mask = torch.ones(input_ids.shape, device=input_ids.device)\n",
        "    pad_token_id = tokenizer.eos_token_id\n",
        "    output = model.generate(input_ids, max_new_tokens=10, attention_mask=attention_mask, pad_token_id=pad_token_id)\n",
        "    return tokenizer.decode(output[0])"
      ]
    },
    {
      "cell_type": "code",
      "execution_count": 7,
      "id": "4e92ebca",
      "metadata": {
        "colab": {
          "base_uri": "https://localhost:8080/"
        },
        "id": "4e92ebca",
        "outputId": "5aee3d55-11e4-49ad-862a-b91b85ef718a"
      },
      "outputs": [
        {
          "name": "stderr",
          "output_type": "stream",
          "text": [
            "The following generation flags are not valid and may be ignored: ['output_hidden_states']. Set `TRANSFORMERS_VERBOSITY=info` for more details.\n",
            "The following generation flags are not valid and may be ignored: ['output_hidden_states']. Set `TRANSFORMERS_VERBOSITY=info` for more details.\n"
          ]
        },
        {
          "name": "stdout",
          "output_type": "stream",
          "text": [
            "11 + 3 = 1.5\n",
            "\n",
            "The first two points are\n",
            "What is 1 + 1?\n",
            "\n",
            "1 + 1 = 1 + 1\n",
            "\n"
          ]
        }
      ],
      "source": [
        "print(prompt_model(\"11 + 3 =\"))\n",
        "print(prompt_model(\"What is 1 + 1?\"))"
      ]
    },
    {
      "cell_type": "code",
      "execution_count": 8,
      "id": "a47e1c61",
      "metadata": {
        "colab": {
          "base_uri": "https://localhost:8080/"
        },
        "id": "a47e1c61",
        "outputId": "2f5ed014-ed68-4da5-a7d2-f5de07f73943"
      },
      "outputs": [
        {
          "data": {
            "text/plain": [
              "torch.Size([1, 5, 50257])"
            ]
          },
          "execution_count": 8,
          "metadata": {},
          "output_type": "execute_result"
        }
      ],
      "source": [
        "input_text = \"15 + 6 = 15\"\n",
        "input_ids = tokenizer.encode(input_text, return_tensors=\"pt\").to(device)\n",
        "attention_mask = torch.ones(input_ids.shape, device=input_ids.device)\n",
        "pad_token_id = tokenizer.eos_token_id\n",
        "output = model(input_ids, max_new_tokens=1, attention_mask=attention_mask, pad_token_id=pad_token_id)\n",
        "output.logits.shape\n"
      ]
    },
    {
      "cell_type": "code",
      "execution_count": 14,
      "id": "8cfd189a",
      "metadata": {
        "colab": {
          "base_uri": "https://localhost:8080/"
        },
        "id": "8cfd189a",
        "outputId": "00152bc8-38e2-4796-971b-f2fceac758be"
      },
      "outputs": [
        {
          "name": "stdout",
          "output_type": "stream",
          "text": [
            "-1 is encoded with more than 1 token\n",
            "521 is encoded with more than 1 token\n",
            "527 is encoded with more than 1 token\n"
          ]
        }
      ],
      "source": [
        "for i in range(-1, 530):\n",
        "    input_text = str(i)\n",
        "    input_ids = tokenizer.encode(input_text, return_tensors=\"pt\").to(device)\n",
        "    if (len(input_ids[0]) != 1):\n",
        "        print(f'{i} is encoded with more than 1 token')"
      ]
    },
    {
      "cell_type": "code",
      "execution_count": 17,
      "id": "02df8f74",
      "metadata": {
        "id": "02df8f74"
      },
      "outputs": [],
      "source": [
        "tok_example = tokenizer(\"1 + 4 = 12\", return_tensors=\"pt\", max_length=6,\n",
        "                               padding='max_length',\n",
        "                               truncation=True).to(device)"
      ]
    },
    {
      "cell_type": "code",
      "execution_count": 18,
      "id": "0966cb06",
      "metadata": {
        "colab": {
          "base_uri": "https://localhost:8080/"
        },
        "id": "0966cb06",
        "outputId": "2a61f517-f86d-4cfd-d89f-c6239b4b2f13"
      },
      "outputs": [
        {
          "name": "stdout",
          "output_type": "stream",
          "text": [
            "tensor([[   16,  1343,   604,   796,  1105, 50256]], device='cuda:0')\n",
            "tensor([[1, 1, 1, 1, 1, 0]], device='cuda:0')\n"
          ]
        }
      ],
      "source": [
        "print(tok_example[\"input_ids\"])\n",
        "print(tok_example[\"attention_mask\"])"
      ]
    },
    {
      "cell_type": "markdown",
      "id": "f812ae92",
      "metadata": {},
      "source": [
        "#### Creation of dataset"
      ]
    },
    {
      "cell_type": "code",
      "execution_count": 17,
      "id": "640cfdd0",
      "metadata": {
        "id": "640cfdd0"
      },
      "outputs": [],
      "source": [
        "def generate_dataset():\n",
        "    data = []\n",
        "    for a in range(0, 250):\n",
        "        for b in range(0, 250):\n",
        "            c = a + b\n",
        "            equation = f\"{a} + {b} = {c}\"\n",
        "            data.append(equation)\n",
        "    return data\n",
        "\n",
        "def get_samples_from_segment(left, right, number):\n",
        "    data = []\n",
        "    for a in range(left, right + 1):\n",
        "        for b in range(left, right + 1):\n",
        "            c = a + b\n",
        "            equation = f\"{a} + {b} = {c}\"\n",
        "            data.append(equation)\n",
        "    return random.sample(data, number)\n",
        "\n",
        "def generate_train_dataset():\n",
        "    data = []\n",
        "    data += get_samples_from_segment(0, 10, 100)\n",
        "    data += get_samples_from_segment(11, 100, 4000)\n",
        "    data += get_samples_from_segment(0, 249, 10000)\n",
        "    return list(set(data))\n",
        "\n",
        "\n",
        "class AdditionDataset(Dataset):\n",
        "    def __init__(self, data, tokenizer):\n",
        "        self.data = data\n",
        "        self.tokenizer = tokenizer\n",
        "        self.max_length = 6  # We want model to predict end after number c\n",
        "        # should use exactly 6 here\n",
        "\n",
        "    def __len__(self):\n",
        "        return len(self.data)\n",
        "\n",
        "    def __getitem__(self, idx):\n",
        "        equation = self.data[idx]\n",
        "        inputs = self.tokenizer(equation, return_tensors='pt',\n",
        "                               max_length=self.max_length,\n",
        "                               padding='max_length',\n",
        "                               truncation=True)\n",
        "        input_ids = inputs['input_ids'].squeeze(0)  # inputs['input_ids'].shape = (1, 5)\n",
        "        attention_mask = inputs['attention_mask'].squeeze(0)\n",
        "        return input_ids, attention_mask\n",
        "\n",
        "\n",
        "all_data = generate_dataset()\n",
        "dataset = AdditionDataset(all_data, tokenizer)\n",
        "\n",
        "train_data = generate_train_dataset()\n",
        "test_data = [elem for elem in get_samples_from_segment(0, 249, 2000) if elem not in train_data]\n",
        "\n",
        "\n",
        "train_dataset = AdditionDataset(train_data, tokenizer)\n",
        "test_dataset = AdditionDataset(test_data, tokenizer)\n",
        "\n",
        "batch_size = 16\n",
        "train_loader = DataLoader(train_dataset, batch_size=batch_size, shuffle=True)\n",
        "eval_loader = DataLoader(test_dataset, batch_size=batch_size, shuffle=True)\n"
      ]
    },
    {
      "cell_type": "code",
      "execution_count": 18,
      "id": "Ly2T_bilkNlU",
      "metadata": {
        "colab": {
          "base_uri": "https://localhost:8080/"
        },
        "id": "Ly2T_bilkNlU",
        "outputId": "86127baa-df80-474e-82e1-c448743c0e4d"
      },
      "outputs": [
        {
          "name": "stdout",
          "output_type": "stream",
          "text": [
            "62500 13459 1566\n"
          ]
        }
      ],
      "source": [
        "print(dataset.__len__(), train_dataset.__len__(), test_dataset.__len__())"
      ]
    },
    {
      "cell_type": "markdown",
      "id": "89b6e712",
      "metadata": {},
      "source": [
        "#### Fitting a Helix"
      ]
    },
    {
      "cell_type": "code",
      "execution_count": 19,
      "id": "xYqfxeQGdJN-",
      "metadata": {
        "id": "xYqfxeQGdJN-"
      },
      "outputs": [],
      "source": [
        "def get_activation(prompt, layer_idx):\n",
        "    inputs = tokenizer(prompt, return_tensors='pt').to(device)\n",
        "\n",
        "    with torch.no_grad():\n",
        "        outputs = model(**inputs)\n",
        "\n",
        "    hidden_states = outputs.hidden_states\n",
        "    return hidden_states[layer_idx][0, 0].cpu().numpy()"
      ]
    },
    {
      "cell_type": "code",
      "execution_count": 20,
      "id": "1aisJWklJzDH",
      "metadata": {
        "colab": {
          "base_uri": "https://localhost:8080/"
        },
        "id": "1aisJWklJzDH",
        "outputId": "93001825-94aa-4eb8-9d23-d89a122b0685"
      },
      "outputs": [
        {
          "name": "stderr",
          "output_type": "stream",
          "text": [
            "100%|██████████| 2000/2000 [00:12<00:00, 161.62it/s]\n"
          ]
        }
      ],
      "source": [
        "layer_idx = 5\n",
        "\n",
        "H_all = []\n",
        "prompts_all = get_samples_from_segment(0, 249, 2000)\n",
        "for prompt in tqdm(prompts_all):\n",
        "    activation = get_activation(prompt, layer_idx)\n",
        "    H_all.append(activation)\n",
        "H_all = np.array(H_all)"
      ]
    },
    {
      "cell_type": "code",
      "execution_count": 21,
      "id": "lSFSgkyPGQcG",
      "metadata": {
        "colab": {
          "base_uri": "https://localhost:8080/",
          "height": 487
        },
        "id": "lSFSgkyPGQcG",
        "outputId": "3c74a06b-270b-41e7-a443-1eef5749691b"
      },
      "outputs": [
        {
          "data": {
            "image/png": "[encoded data removed]",
            "text/plain": [
              "<Figure size 1500x500 with 1 Axes>"
            ]
          },
          "metadata": {},
          "output_type": "display_data"
        }
      ],
      "source": [
        "pca = PCA(n_components=None)\n",
        "pca.fit(H_all)\n",
        "\n",
        "plt.figure(figsize=(15, 5))\n",
        "plt.subplot(1, 2, 1)\n",
        "plt.plot(pca.singular_values_, 'o-')\n",
        "plt.yscale('log')\n",
        "plt.title('Сингулярные значения')\n",
        "plt.xlabel('Компонента')\n",
        "plt.ylabel('Сингулярное значение (log scale)')\n",
        "plt.grid(True)"
      ]
    },
    {
      "cell_type": "code",
      "execution_count": 22,
      "id": "74ea2def",
      "metadata": {
        "id": "74ea2def"
      },
      "outputs": [],
      "source": [
        "def find_coef_of_determination(layer_idx=5, target_variance=0.95):\n",
        "    model.eval()\n",
        "    H_all = []\n",
        "    prompts_all = get_samples_from_segment(0, 249, 2000)\n",
        "    a_states = defaultdict(list)\n",
        "    a_vals = []\n",
        "\n",
        "    for prompt in prompts_all:\n",
        "        a_val = int(prompt.split()[0])\n",
        "        activation = get_activation(prompt, layer_idx)\n",
        "        a_states[a_val].append(activation)\n",
        "\n",
        "    H_all = []\n",
        "    for key, states in a_states.items():\n",
        "        if len(states) == 0:\n",
        "            continue\n",
        "        a_vals.append(key)\n",
        "        H_all.append(np.mean(states, axis=0))\n",
        "\n",
        "\n",
        "    H_all = np.array(H_all)\n",
        "\n",
        "    pca = PCA(n_components=None)\n",
        "    H_pca = pca.fit_transform(H_all)\n",
        "    cumulative_variance = np.cumsum(pca.explained_variance_ratio_)\n",
        "    great_pca = np.argmax(cumulative_variance >= target_variance) + 1\n",
        "    pca_dim = max(great_pca, 10)\n",
        "    H_pca = H_pca[:, :pca_dim]\n",
        "\n",
        "    periods = [2, 5, 10, 100]\n",
        "    def build_fourier_features(a):\n",
        "        features = []\n",
        "        for period in periods:\n",
        "            features.append(np.cos(2 * np.pi * a / period))\n",
        "            features.append(np.sin(2 * np.pi * a / period))\n",
        "        return np.array(features)\n",
        "\n",
        "    B = np.array([build_fourier_features(a) for a in a_vals])\n",
        "\n",
        "    reg = LinearRegression(fit_intercept=False)\n",
        "    reg.fit(B, H_pca)\n",
        "    r2 = reg.score(B, H_pca)\n",
        "    return r2, pca_dim"
      ]
    },
    {
      "cell_type": "code",
      "execution_count": 24,
      "id": "cb5453f4",
      "metadata": {
        "colab": {
          "base_uri": "https://localhost:8080/"
        },
        "id": "cb5453f4",
        "outputId": "fa007aea-93d3-4987-92f0-fc27873bb61d"
      },
      "outputs": [
        {
          "name": "stdout",
          "output_type": "stream",
          "text": [
            "(0.11531165831977153, 56)\n"
          ]
        }
      ],
      "source": [
        "print(find_coef_of_determination())"
      ]
    },
    {
      "cell_type": "markdown",
      "id": "7e5ee173",
      "metadata": {},
      "source": [
        "#### Fine-tuning"
      ]
    },
    {
      "cell_type": "code",
      "execution_count": null,
      "id": "rNTjUP1lNeGY",
      "metadata": {
        "id": "rNTjUP1lNeGY"
      },
      "outputs": [],
      "source": [
        "no_decay = [\"bias\", \"LayerNorm.weight\"]\n",
        "optimizer_grouped_parameters = [\n",
        "    {\n",
        "        \"params\": [\n",
        "            p for n, p in model.named_parameters()\n",
        "            if not any(nd in n for nd in no_decay)\n",
        "        ],\n",
        "        \"weight_decay\": 0.75,  # Веса матриц\n",
        "    },\n",
        "    {\n",
        "        \"params\": [\n",
        "            p for n, p in model.named_parameters()\n",
        "            if any(nd in n for nd in no_decay)\n",
        "        ],\n",
        "        \"weight_decay\": 0.0,  # Bias и LayerNorm\n",
        "    },\n",
        "]\n",
        "\n",
        "optimizer = AdamW(optimizer_grouped_parameters, lr=5e-5)"
      ]
    },
    {
      "cell_type": "code",
      "execution_count": null,
      "id": "22b36c8c",
      "metadata": {
        "id": "22b36c8c"
      },
      "outputs": [],
      "source": [
        "# @torch.no_grad()\n",
        "def compute_accuracy(model, data_loader):\n",
        "    model.eval()\n",
        "    total_correct = 0\n",
        "    total_samples = 0\n",
        "    with torch.no_grad():\n",
        "        for input_ids, attention_mask in data_loader:\n",
        "            input_ids = input_ids.to(device)\n",
        "            attention_mask = attention_mask.to(device)\n",
        "            outputs = model(input_ids, attention_mask=attention_mask)\n",
        "            logits = outputs.logits\n",
        "\n",
        "            for i in range(input_ids.shape[0]):\n",
        "                seq = input_ids[i]\n",
        "                mask = attention_mask[i]\n",
        "                last_token_pos = torch.sum(mask).item() - 1  # don't include eos tokens\n",
        "\n",
        "                pred_token = logits[i, last_token_pos - 1].argmax().item()\n",
        "                true_token = seq[last_token_pos].item()\n",
        "\n",
        "                if pred_token == true_token:\n",
        "                    total_correct += 1\n",
        "                total_samples += 1\n",
        "\n",
        "    return total_correct / total_samples"
      ]
    },
    {
      "cell_type": "code",
      "execution_count": null,
      "id": "47396de8",
      "metadata": {
        "id": "47396de8"
      },
      "outputs": [],
      "source": [
        "def compute_elem_loss(outputs, input_ids):\n",
        "    logits = outputs.logits\n",
        "    loss_function = torch.nn.CrossEntropyLoss()\n",
        "\n",
        "    total_loss = 0\n",
        "\n",
        "    for batch_id in range(logits.shape[0]):\n",
        "        for i in range(2):\n",
        "            pred = logits[batch_id, -3 + i]\n",
        "            target = input_ids[batch_id, -2 + i]\n",
        "\n",
        "            total_loss += loss_function(pred.unsqueeze(0), target.unsqueeze(0)) / 2\n",
        "\n",
        "    return total_loss / logits.shape[0]\n"
      ]
    },
    {
      "cell_type": "code",
      "execution_count": null,
      "id": "ef2tKi7QXim0",
      "metadata": {
        "colab": {
          "base_uri": "https://localhost:8080/"
        },
        "id": "ef2tKi7QXim0",
        "outputId": "50a014e2-f55b-4aa2-dc50-c6b7ada2a705"
      },
      "outputs": [
        {
          "name": "stderr",
          "output_type": "stream",
          "text": [
            "\u001b[34m\u001b[1mwandb\u001b[0m: Currently logged in as: \u001b[33mjegvide\u001b[0m (\u001b[33mjegvide-hse\u001b[0m) to \u001b[32mhttps://api.wandb.ai\u001b[0m. Use \u001b[1m`wandb login --relogin`\u001b[0m to force relogin\n"
          ]
        },
        {
          "data": {
            "text/plain": [
              "True"
            ]
          },
          "execution_count": 22,
          "metadata": {},
          "output_type": "execute_result"
        }
      ],
      "source": [
        "wandb.login()"
      ]
    },
    {
      "cell_type": "code",
      "execution_count": null,
      "id": "d0fb12ed-7290-494a-9a45-ff0600b65f0a",
      "metadata": {
        "colab": {
          "base_uri": "https://localhost:8080/",
          "height": 125
        },
        "id": "d0fb12ed-7290-494a-9a45-ff0600b65f0a",
        "outputId": "6e66fed7-a29f-4fc5-f766-d0f44c4502d9"
      },
      "outputs": [
        {
          "data": {
            "text/html": [
              "Tracking run with wandb version 0.20.1"
            ],
            "text/plain": [
              "<IPython.core.display.HTML object>"
            ]
          },
          "metadata": {},
          "output_type": "display_data"
        },
        {
          "data": {
            "text/html": [
              "Run data is saved locally in <code>/content/wandb/run-20250707_155808-q0j3ovcd</code>"
            ],
            "text/plain": [
              "<IPython.core.display.HTML object>"
            ]
          },
          "metadata": {},
          "output_type": "display_data"
        },
        {
          "data": {
            "text/html": [
              "Syncing run <strong><a href='https://wandb.ai/jegvide-hse/fine_tuning_gpt2_math.ipynb/runs/q0j3ovcd' target=\"_blank\">fluent-dragon-1</a></strong> to <a href='https://wandb.ai/jegvide-hse/fine_tuning_gpt2_math.ipynb' target=\"_blank\">Weights & Biases</a> (<a href='https://wandb.me/developer-guide' target=\"_blank\">docs</a>)<br>"
            ],
            "text/plain": [
              "<IPython.core.display.HTML object>"
            ]
          },
          "metadata": {},
          "output_type": "display_data"
        },
        {
          "data": {
            "text/html": [
              " View project at <a href='https://wandb.ai/jegvide-hse/fine_tuning_gpt2_math.ipynb' target=\"_blank\">https://wandb.ai/jegvide-hse/fine_tuning_gpt2_math.ipynb</a>"
            ],
            "text/plain": [
              "<IPython.core.display.HTML object>"
            ]
          },
          "metadata": {},
          "output_type": "display_data"
        },
        {
          "data": {
            "text/html": [
              " View run at <a href='https://wandb.ai/jegvide-hse/fine_tuning_gpt2_math.ipynb/runs/q0j3ovcd' target=\"_blank\">https://wandb.ai/jegvide-hse/fine_tuning_gpt2_math.ipynb/runs/q0j3ovcd</a>"
            ],
            "text/plain": [
              "<IPython.core.display.HTML object>"
            ]
          },
          "metadata": {},
          "output_type": "display_data"
        },
        {
          "data": {
            "text/html": [
              "<button onClick=\"this.nextSibling.style.display='block';this.style.display='none';\">Display W&B run</button><iframe src='https://wandb.ai/jegvide-hse/fine_tuning_gpt2_math.ipynb/runs/q0j3ovcd?jupyter=true' style='border:none;width:100%;height:420px;display:none;'></iframe>"
            ],
            "text/plain": [
              "<wandb.sdk.wandb_run.Run at 0x79e82d6afb50>"
            ]
          },
          "execution_count": 23,
          "metadata": {},
          "output_type": "execute_result"
        }
      ],
      "source": [
        "best_eval_acc = 0\n",
        "wandb.init(project=\"fine_tuning_gpt2_math\")"
      ]
    },
    {
      "cell_type": "code",
      "execution_count": null,
      "id": "vMVdMFvRj6hJ",
      "metadata": {
        "id": "vMVdMFvRj6hJ"
      },
      "outputs": [],
      "source": [
        "model.generation_config.return_dict_in_generate = True"
      ]
    },
    {
      "cell_type": "code",
      "execution_count": null,
      "id": "MRkIN-remWuB",
      "metadata": {
        "id": "MRkIN-remWuB"
      },
      "outputs": [],
      "source": [
        "train_acc = compute_accuracy(model, train_loader)\n",
        "eval_acc = compute_accuracy(model, eval_loader)\n",
        "w_norm = torch.norm(torch.cat([p.view(-1) for n,p in model.named_parameters()\n",
        "                                if \"weight\" in n and \"LayerNorm\" not in n])).item()\n",
        "metrics = {\n",
        "    \"epoch\": 0,\n",
        "    \"train_accuracy\": train_acc,\n",
        "    \"eval_accuracy\": eval_acc,\n",
        "    \"weight\": w_norm\n",
        "}\n",
        "\n",
        "determination_1 = find_coef_of_determination(layer_idx=1)\n",
        "metrics.update({\"Coefficient of determination in layer 1\": determination_1[0]})\n",
        "metrics.update({\"PCA dim in layer 1\": determination_1[1]})\n",
        "\n",
        "determination_6 = find_coef_of_determination(layer_idx=6)\n",
        "metrics.update({\"Coefficient of determination in layer 6\": determination_6[0]})\n",
        "metrics.update({\"PCA dim in layer 6\": determination_6[1]})\n",
        "\n",
        "wandb.log(metrics)"
      ]
    },
    {
      "cell_type": "code",
      "execution_count": null,
      "id": "396e1270",
      "metadata": {
        "colab": {
          "base_uri": "https://localhost:8080/",
          "height": 1000
        },
        "id": "396e1270",
        "outputId": "044dbd76-0202-488d-b657-fdbfc74121b4"
      },
      "outputs": [
        {
          "name": "stderr",
          "output_type": "stream",
          "text": [
            "`loss_type=None` was set in the config but it is unrecognised.Using the default loss: `ForCausalLMLoss`.\n"
          ]
        },
        {
          "name": "stdout",
          "output_type": "stream",
          "text": [
            "Epoch 1: Train Loss: 2.1941, Train Acc: 0.0723, Eval Acc: 0.0459, Weight: 1458.3666\n",
            "Epoch 2: Train Loss: 1.8161, Train Acc: 0.0984, Eval Acc: 0.0567, Weight: 1413.3647\n",
            "Epoch 3: Train Loss: 1.6617, Train Acc: 0.1433, Eval Acc: 0.0739, Weight: 1369.7924\n",
            "Epoch 4: Train Loss: 1.5265, Train Acc: 0.2344, Eval Acc: 0.1428, Weight: 1327.6339\n",
            "Epoch 5: Train Loss: 1.3781, Train Acc: 0.3366, Eval Acc: 0.1823, Weight: 1286.8477\n",
            "Epoch 6: Train Loss: 1.0803, Train Acc: 0.7188, Eval Acc: 0.4920, Weight: 1247.4399\n",
            "Epoch 7: Train Loss: 0.5298, Train Acc: 0.9064, Eval Acc: 0.7451, Weight: 1209.1431\n",
            "Epoch 8: Train Loss: 0.3352, Train Acc: 0.9549, Eval Acc: 0.8368, Weight: 1172.0499\n",
            "Epoch 9: Train Loss: 0.2555, Train Acc: 0.9604, Eval Acc: 0.8859, Weight: 1136.0742\n",
            "Epoch 10: Train Loss: 0.2225, Train Acc: 0.9748, Eval Acc: 0.9203, Weight: 1101.2855\n",
            "Epoch 11: Train Loss: 0.1813, Train Acc: 0.9822, Eval Acc: 0.9496, Weight: 1067.8309\n",
            "Epoch 12: Train Loss: 0.1672, Train Acc: 0.9715, Eval Acc: 0.9375, Weight: 1035.6481\n",
            "Epoch 13: Train Loss: 0.1310, Train Acc: 0.9628, Eval Acc: 0.9133, Weight: 1004.5910\n",
            "Epoch 14: Train Loss: 0.1301, Train Acc: 0.9938, Eval Acc: 0.9707, Weight: 974.9619\n",
            "Epoch 15: Train Loss: 0.1136, Train Acc: 0.9920, Eval Acc: 0.9739, Weight: 946.2892\n",
            "Epoch 16: Train Loss: 0.1065, Train Acc: 0.9928, Eval Acc: 0.9751, Weight: 919.0130\n",
            "Epoch 17: Train Loss: 0.0992, Train Acc: 0.9966, Eval Acc: 0.9904, Weight: 892.1191\n",
            "Epoch 18: Train Loss: 0.0920, Train Acc: 0.9875, Eval Acc: 0.9694, Weight: 866.3907\n",
            "Epoch 19: Train Loss: 0.0834, Train Acc: 0.9857, Eval Acc: 0.9764, Weight: 841.9190\n",
            "Epoch 20: Train Loss: 0.0905, Train Acc: 0.9993, Eval Acc: 0.9936, Weight: 818.6948\n",
            "Epoch 21: Train Loss: 0.0773, Train Acc: 0.9999, Eval Acc: 0.9981, Weight: 796.5247\n",
            "Epoch 22: Train Loss: 0.0865, Train Acc: 0.9975, Eval Acc: 0.9904, Weight: 775.5483\n",
            "Epoch 23: Train Loss: 0.0676, Train Acc: 0.9929, Eval Acc: 0.9892, Weight: 754.8650\n",
            "Epoch 24: Train Loss: 0.0792, Train Acc: 0.9996, Eval Acc: 0.9975, Weight: 735.8094\n",
            "Epoch 25: Train Loss: 0.0553, Train Acc: 0.9998, Eval Acc: 0.9994, Weight: 716.7806\n",
            "Epoch 26: Train Loss: 0.0829, Train Acc: 0.9954, Eval Acc: 0.9962, Weight: 699.3644\n",
            "Epoch 27: Train Loss: 0.0809, Train Acc: 1.0000, Eval Acc: 0.9981, Weight: 682.8145\n",
            "Epoch 28: Train Loss: 0.0420, Train Acc: 0.9845, Eval Acc: 0.9802, Weight: 665.8020\n",
            "Epoch 29: Train Loss: 0.0959, Train Acc: 0.9995, Eval Acc: 0.9975, Weight: 651.3762\n",
            "Epoch 30: Train Loss: 0.0556, Train Acc: 0.9654, Eval Acc: 0.9458, Weight: 636.3032\n",
            "Epoch 31: Train Loss: 0.0593, Train Acc: 0.9975, Eval Acc: 0.9936, Weight: 622.0788\n",
            "Epoch 32: Train Loss: 0.0660, Train Acc: 0.9999, Eval Acc: 0.9975, Weight: 608.5772\n",
            "Epoch 33: Train Loss: 0.0715, Train Acc: 1.0000, Eval Acc: 0.9994, Weight: 595.9909\n",
            "Epoch 34: Train Loss: 0.0935, Train Acc: 0.9981, Eval Acc: 0.9943, Weight: 584.5972\n",
            "Epoch 35: Train Loss: 0.0442, Train Acc: 0.9978, Eval Acc: 0.9936, Weight: 571.8433\n",
            "Epoch 36: Train Loss: 0.0647, Train Acc: 0.9999, Eval Acc: 0.9987, Weight: 560.7952\n",
            "Epoch 37: Train Loss: 0.0603, Train Acc: 0.9993, Eval Acc: 0.9975, Weight: 550.1944\n",
            "Epoch 38: Train Loss: 0.0753, Train Acc: 0.9999, Eval Acc: 0.9987, Weight: 540.2643\n",
            "Epoch 39: Train Loss: 0.0903, Train Acc: 0.9993, Eval Acc: 0.9987, Weight: 531.4517\n",
            "Epoch 40: Train Loss: 0.0665, Train Acc: 1.0000, Eval Acc: 1.0000, Weight: 521.9028\n",
            "Epoch 41: Train Loss: 0.0764, Train Acc: 0.9999, Eval Acc: 1.0000, Weight: 513.5137\n",
            "Epoch 42: Train Loss: 0.0575, Train Acc: 0.9690, Eval Acc: 0.9611, Weight: 504.6708\n",
            "Epoch 43: Train Loss: 0.0519, Train Acc: 0.9999, Eval Acc: 0.9994, Weight: 495.6859\n",
            "Epoch 44: Train Loss: 0.0807, Train Acc: 0.9990, Eval Acc: 0.9994, Weight: 488.6843\n",
            "Epoch 45: Train Loss: 0.0825, Train Acc: 1.0000, Eval Acc: 1.0000, Weight: 481.9131\n",
            "Epoch 46: Train Loss: 0.0364, Train Acc: 0.9961, Eval Acc: 0.9962, Weight: 473.0546\n",
            "Epoch 47: Train Loss: 0.0840, Train Acc: 0.9999, Eval Acc: 0.9994, Weight: 466.6707\n",
            "Epoch 48: Train Loss: 0.0795, Train Acc: 0.9999, Eval Acc: 0.9981, Weight: 460.5356\n",
            "Epoch 49: Train Loss: 0.0768, Train Acc: 0.9788, Eval Acc: 0.9726, Weight: 454.9008\n",
            "Epoch 50: Train Loss: 0.0544, Train Acc: 0.9999, Eval Acc: 0.9994, Weight: 447.9327\n",
            "Epoch 51: Train Loss: 0.0804, Train Acc: 0.9996, Eval Acc: 0.9981, Weight: 442.8703\n",
            "Epoch 52: Train Loss: 0.0682, Train Acc: 0.9998, Eval Acc: 0.9987, Weight: 437.2540\n",
            "Epoch 53: Train Loss: 0.0473, Train Acc: 0.9999, Eval Acc: 0.9987, Weight: 430.6299\n",
            "Epoch 54: Train Loss: 0.0873, Train Acc: 1.0000, Eval Acc: 0.9994, Weight: 425.7534\n",
            "Epoch 55: Train Loss: 0.0655, Train Acc: 0.9985, Eval Acc: 0.9987, Weight: 420.7286\n",
            "Epoch 56: Train Loss: 0.0818, Train Acc: 1.0000, Eval Acc: 0.9994, Weight: 415.8490\n",
            "Epoch 57: Train Loss: 0.0636, Train Acc: 0.9989, Eval Acc: 0.9987, Weight: 410.6902\n",
            "Epoch 58: Train Loss: 0.0655, Train Acc: 0.9997, Eval Acc: 1.0000, Weight: 406.3421\n",
            "Epoch 59: Train Loss: 0.0379, Train Acc: 0.9999, Eval Acc: 0.9994, Weight: 399.5627\n",
            "Epoch 60: Train Loss: 0.0922, Train Acc: 0.9987, Eval Acc: 0.9987, Weight: 396.2789\n",
            "Epoch 61: Train Loss: 0.0670, Train Acc: 0.9983, Eval Acc: 0.9968, Weight: 392.1343\n",
            "Epoch 62: Train Loss: 0.0435, Train Acc: 0.9999, Eval Acc: 1.0000, Weight: 386.2426\n",
            "Epoch 63: Train Loss: 0.0869, Train Acc: 0.9998, Eval Acc: 1.0000, Weight: 383.1988\n",
            "Epoch 64: Train Loss: 0.0560, Train Acc: 0.9898, Eval Acc: 0.9866, Weight: 378.3852\n"
          ]
        },
        {
          "ename": "KeyboardInterrupt",
          "evalue": "",
          "output_type": "error",
          "traceback": [
            "\u001b[0;31m---------------------------------------------------------------------------\u001b[0m",
            "\u001b[0;31mKeyboardInterrupt\u001b[0m                         Traceback (most recent call last)",
            "\u001b[0;32m/tmp/ipython-input-26-1061159811.py\u001b[0m in \u001b[0;36m<cell line: 0>\u001b[0;34m()\u001b[0m\n\u001b[1;32m     15\u001b[0m         \u001b[0moptimizer\u001b[0m\u001b[0;34m.\u001b[0m\u001b[0mstep\u001b[0m\u001b[0;34m(\u001b[0m\u001b[0;34m)\u001b[0m\u001b[0;34m\u001b[0m\u001b[0;34m\u001b[0m\u001b[0m\n\u001b[1;32m     16\u001b[0m \u001b[0;34m\u001b[0m\u001b[0m\n\u001b[0;32m---> 17\u001b[0;31m         \u001b[0mwandb\u001b[0m\u001b[0;34m.\u001b[0m\u001b[0mlog\u001b[0m\u001b[0;34m(\u001b[0m\u001b[0;34m{\u001b[0m\u001b[0;34m\"batch_loss\"\u001b[0m\u001b[0;34m:\u001b[0m \u001b[0mloss\u001b[0m\u001b[0;34m.\u001b[0m\u001b[0mitem\u001b[0m\u001b[0;34m(\u001b[0m\u001b[0;34m)\u001b[0m\u001b[0;34m}\u001b[0m\u001b[0;34m)\u001b[0m\u001b[0;34m\u001b[0m\u001b[0;34m\u001b[0m\u001b[0m\n\u001b[0m\u001b[1;32m     18\u001b[0m \u001b[0;34m\u001b[0m\u001b[0m\n\u001b[1;32m     19\u001b[0m     \u001b[0mavg_train_loss\u001b[0m \u001b[0;34m=\u001b[0m \u001b[0mtotal_loss\u001b[0m \u001b[0;34m/\u001b[0m \u001b[0mlen\u001b[0m\u001b[0;34m(\u001b[0m\u001b[0mtrain_loader\u001b[0m\u001b[0;34m)\u001b[0m\u001b[0;34m\u001b[0m\u001b[0;34m\u001b[0m\u001b[0m\n",
            "\u001b[0;31mKeyboardInterrupt\u001b[0m: "
          ]
        }
      ],
      "source": [
        "num_epochs = 200\n",
        "for epoch in range(1, num_epochs):\n",
        "    model.train()\n",
        "    total_loss = 0\n",
        "    for batch_idx, (input_ids, attention_mask) in enumerate(train_loader):\n",
        "        input_ids = input_ids.to(device)\n",
        "        attention_mask = attention_mask.to(device)\n",
        "\n",
        "        outputs = model(input_ids, attention_mask=attention_mask, labels=input_ids)\n",
        "        loss = compute_elem_loss(outputs, input_ids)\n",
        "        total_loss += loss.item()\n",
        "\n",
        "        optimizer.zero_grad()\n",
        "        loss.backward()\n",
        "        optimizer.step()\n",
        "\n",
        "        wandb.log({\"batch_loss\": loss.item()})\n",
        "\n",
        "    avg_train_loss = total_loss / len(train_loader)\n",
        "    train_acc = compute_accuracy(model, train_loader)\n",
        "    eval_acc = compute_accuracy(model, eval_loader)\n",
        "    w_norm = torch.norm(torch.cat([p.view(-1) for n,p in model.named_parameters()\n",
        "                                  if \"weight\" in n and \"LayerNorm\" not in n])).item()\n",
        "\n",
        "    if best_eval_acc < eval_acc:\n",
        "        best_eval_acc = eval_acc\n",
        "        epoch_dir = f\"data/saved_models/epoch_{epoch}\"\n",
        "        os.makedirs(epoch_dir, exist_ok=True)\n",
        "        model.save_pretrained(epoch_dir)\n",
        "\n",
        "    metrics = {\n",
        "        \"epoch\": epoch,\n",
        "        \"train_loss\": avg_train_loss,\n",
        "        \"train_accuracy\": train_acc,\n",
        "        \"eval_accuracy\": eval_acc,\n",
        "        \"weight\": w_norm\n",
        "    }\n",
        "\n",
        "    if (epoch % 7 == 0):\n",
        "        determination_1 = find_coef_of_determination(layer_idx=1)\n",
        "        metrics.update({\"Coefficient of determination in layer 1\": determination_1[0]})\n",
        "        metrics.update({\"PCA dim in layer 1\": determination_1[1]})\n",
        "\n",
        "        determination_6 = find_coef_of_determination(layer_idx=6)\n",
        "        metrics.update({\"Coefficient of determination in layer 6\": determination_6[0]})\n",
        "        metrics.update({\"PCA dim in layer 6\": determination_6[1]})\n",
        "\n",
        "    wandb.log(metrics)\n",
        "\n",
        "    print(f\"Epoch {epoch}: Train Loss: {avg_train_loss:.4f}, Train Acc: {train_acc:.4f}, Eval Acc: {eval_acc:.4f}, Weight: {w_norm:.4f}\")\n"
      ]
    },
    {
      "cell_type": "code",
      "execution_count": null,
      "id": "b70cf89b",
      "metadata": {
        "id": "b70cf89b"
      },
      "outputs": [],
      "source": [
        "wandb.finish()"
      ]
    },
    {
      "cell_type": "markdown",
      "id": "05385201",
      "metadata": {},
      "source": [
        "#### Model saving"
      ]
    },
    {
      "cell_type": "code",
      "execution_count": 7,
      "id": "fab818d7",
      "metadata": {
        "colab": {
          "base_uri": "https://localhost:8080/"
        },
        "id": "fab818d7",
        "outputId": "e9266668-840b-4a8c-9bfd-dc9ef49ef70b"
      },
      "outputs": [],
      "source": [
        "model.save_pretrained(\"data/saved_models/last_model\")\n",
        "# tokenizer.save_pretrained(\"data/saved_models/last_model\")"
      ]
    },
    {
      "cell_type": "markdown",
      "id": "d5b87a62",
      "metadata": {},
      "source": [
        "#### New model exploration"
      ]
    },
    {
      "cell_type": "code",
      "execution_count": null,
      "id": "j6krwrF3COqA",
      "metadata": {
        "id": "j6krwrF3COqA"
      },
      "outputs": [],
      "source": [
        "model.generation_config.return_dict_in_generate = False"
      ]
    },
    {
      "cell_type": "code",
      "execution_count": null,
      "id": "400a1187",
      "metadata": {
        "colab": {
          "base_uri": "https://localhost:8080/"
        },
        "id": "400a1187",
        "outputId": "75a3fb73-fc75-41e2-962d-f546daccdc33"
      },
      "outputs": [
        {
          "name": "stderr",
          "output_type": "stream",
          "text": [
            "The following generation flags are not valid and may be ignored: ['output_hidden_states']. Set `TRANSFORMERS_VERBOSITY=info` for more details.\n",
            "The attention mask and the pad token id were not set. As a consequence, you may observe unexpected behavior. Please pass your input's `attention_mask` to obtain reliable results.\n",
            "Setting `pad_token_id` to `eos_token_id`:50256 for open-end generation.\n"
          ]
        },
        {
          "name": "stdout",
          "output_type": "stream",
          "text": [
            "tensor([[10232,  1343, 25090,   796]], device='cuda:0')\n",
            "120 + 162 = 282\n"
          ]
        }
      ],
      "source": [
        "input_text = \"120 + 162 =\"\n",
        "input_ids = tokenizer.encode(input_text, return_tensors=\"pt\").to(device)\n",
        "print(input_ids)\n",
        "\n",
        "output = model.generate(input_ids, max_new_tokens=1)\n",
        "\n",
        "print(tokenizer.decode(output[0], skip_special_tokens=True))\n"
      ]
    },
    {
      "cell_type": "code",
      "execution_count": null,
      "id": "f40413e0-21fd-471c-856c-a6f3979d33c1",
      "metadata": {
        "id": "f40413e0-21fd-471c-856c-a6f3979d33c1"
      },
      "outputs": [],
      "source": [
        "def find_coef_of_determination_with_a(layer_idx=5, target_variance=0.95):\n",
        "    model.eval()\n",
        "    H_all = []\n",
        "    prompts_all = get_samples_from_segment(0, 249, 2000)\n",
        "    a_states = defaultdict(list)\n",
        "    a_vals = []\n",
        "\n",
        "    for prompt in prompts_all:\n",
        "        a_val = int(prompt.split()[0])\n",
        "        activation = get_activation(prompt, layer_idx)\n",
        "        a_states[a_val].append(activation)\n",
        "\n",
        "    H_all = []\n",
        "    for key, states in a_states.items():\n",
        "        if len(states) == 0:\n",
        "            continue\n",
        "        a_vals.append(key)\n",
        "        H_all.append(np.mean(states, axis=0))\n",
        "\n",
        "\n",
        "    H_all = np.array(H_all)\n",
        "\n",
        "    pca = PCA(n_components=None)\n",
        "    H_pca = pca.fit_transform(H_all)\n",
        "    cumulative_variance = np.cumsum(pca.explained_variance_ratio_)\n",
        "    great_pca = np.argmax(cumulative_variance >= target_variance) + 1\n",
        "    pca_dim = great_pca\n",
        "    H_pca = H_pca[:, :pca_dim]\n",
        "\n",
        "    periods = [2, 5, 10, 100]\n",
        "    def build_fourier_features(a):\n",
        "        features = [a]\n",
        "        for period in periods:\n",
        "            features.append(np.cos(2 * np.pi * a / period))\n",
        "            features.append(np.sin(2 * np.pi * a / period))\n",
        "        return np.array(features)\n",
        "\n",
        "    B = np.array([build_fourier_features(a) for a in a_vals])\n",
        "\n",
        "    reg = LinearRegression(fit_intercept=False)\n",
        "    reg.fit(B, H_pca)\n",
        "    r2 = reg.score(B, H_pca)\n",
        "    return r2, pca_dim"
      ]
    },
    {
      "cell_type": "code",
      "execution_count": null,
      "id": "a9198c48-1e1c-4b0e-86b5-1944988f4884",
      "metadata": {
        "colab": {
          "base_uri": "https://localhost:8080/"
        },
        "id": "a9198c48-1e1c-4b0e-86b5-1944988f4884",
        "outputId": "2326a3af-a9cd-4931-9352-d2e61f80a58b"
      },
      "outputs": [
        {
          "name": "stdout",
          "output_type": "stream",
          "text": [
            "(0.9481515495217496, np.int64(4))\n"
          ]
        }
      ],
      "source": [
        "print(find_coef_of_determination_with_a(layer_idx=5, target_variance=0.5))"
      ]
    },
    {
      "cell_type": "code",
      "execution_count": null,
      "id": "yKbjJRn5CfMg",
      "metadata": {
        "colab": {
          "base_uri": "https://localhost:8080/"
        },
        "id": "yKbjJRn5CfMg",
        "outputId": "034680e5-b3b9-4671-e822-4afc17e79ec6"
      },
      "outputs": [
        {
          "name": "stdout",
          "output_type": "stream",
          "text": [
            "(0.4894626102784992, np.int64(10))\n"
          ]
        }
      ],
      "source": [
        "print(find_coef_of_determination(layer_idx=5))"
      ]
    },
    {
      "cell_type": "code",
      "execution_count": null,
      "id": "AjcYW7blCpx7",
      "metadata": {
        "colab": {
          "base_uri": "https://localhost:8080/"
        },
        "id": "AjcYW7blCpx7",
        "outputId": "f30eda36-d029-4fd2-f706-3cad5aa83816"
      },
      "outputs": [
        {
          "name": "stdout",
          "output_type": "stream",
          "text": [
            "(0.5151757132953777, np.int64(10))\n",
            "(0.4893914642598351, np.int64(10))\n"
          ]
        }
      ],
      "source": [
        "print(find_coef_of_determination_with_a(layer_idx=10))\n",
        "print(find_coef_of_determination(layer_idx=10))"
      ]
    }
  ],
  "metadata": {
    "accelerator": "GPU",
    "colab": {
      "gpuType": "T4",
      "provenance": []
    },
    "kaggle": {
      "accelerator": "nvidiaTeslaT4",
      "dataSources": [
        {
          "isSourceIdPinned": true,
          "modelId": 391955,
          "modelInstanceId": 371058,
          "sourceId": 457575,
          "sourceType": "modelInstanceVersion"
        }
      ],
      "dockerImageVersionId": 31041,
      "isGpuEnabled": true,
      "isInternetEnabled": true,
      "language": "python",
      "sourceType": "notebook"
    },
    "kernelspec": {
      "display_name": "Python 3",
      "language": "python",
      "name": "python3"
    },
    "language_info": {
      "codemirror_mode": {
        "name": "ipython",
        "version": 3
      },
      "file_extension": ".py",
      "mimetype": "text/x-python",
      "name": "python",
      "nbconvert_exporter": "python",
      "pygments_lexer": "ipython3",
      "version": "3.11.11"
    }
  },
  "nbformat": 4,
  "nbformat_minor": 5
}
